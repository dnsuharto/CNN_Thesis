{
  "nbformat": 4,
  "nbformat_minor": 0,
  "metadata": {
    "colab": {
      "provenance": [],
      "mount_file_id": "1PUiVsnDhfdjYoN-TYkHDrfmKsyf9NMoc",
      "authorship_tag": "ABX9TyMcCvUAdJ+xlh6Hgq4aizZq",
      "include_colab_link": true
    },
    "kernelspec": {
      "name": "python3",
      "display_name": "Python 3"
    },
    "language_info": {
      "name": "python"
    }
  },
  "cells": [
    {
      "cell_type": "markdown",
      "metadata": {
        "id": "view-in-github",
        "colab_type": "text"
      },
      "source": [
        "<a href=\"https://colab.research.google.com/github/dnsuharto/CNN_Thesis/blob/main/CNN_FINAL.ipynb\" target=\"_parent\"><img src=\"https://colab.research.google.com/assets/colab-badge.svg\" alt=\"Open In Colab\"/></a>"
      ]
    },
    {
      "cell_type": "markdown",
      "source": [
        "Import Library"
      ],
      "metadata": {
        "id": "WlMK4V4MIcpb"
      }
    },
    {
      "cell_type": "code",
      "execution_count": 10,
      "metadata": {
        "id": "Y2VxsfJhIWCB"
      },
      "outputs": [],
      "source": [
        "from keras.models import Sequential\n",
        "from keras.layers import Conv2D, MaxPooling2D, Flatten, Dense, Dropout\n",
        "from keras.preprocessing.image import ImageDataGenerator\n",
        "import matplotlib.pyplot as plt"
      ]
    },
    {
      "cell_type": "markdown",
      "source": [
        "Prepare Data"
      ],
      "metadata": {
        "id": "Fy8w6KCzIhJp"
      }
    },
    {
      "cell_type": "code",
      "source": [
        "train_dir = '/content/drive/MyDrive/Latihan/training'\n",
        "val_dir = '/content/drive/MyDrive/Latihan/validation'\n",
        "target_size = (32,32)\n",
        "classes = 4\n",
        "\n",
        "train_datagen = ImageDataGenerator(rescale=1./255\n",
        "                                  # horizontal_flip=True,\n",
        "                                  # vertical_flip=True,\n",
        "                                  # rotation_range=90,\n",
        "                                   #zoom_range=0.1,\n",
        "                                   #validation_split=0.3\n",
        "                                   )\n",
        "\n",
        "val_datagen = ImageDataGenerator(rescale=1./255)\n",
        "\n",
        "train_gen = train_datagen.flow_from_directory(train_dir,\n",
        "                                              target_size=target_size,\n",
        "                                              batch_size=32,\n",
        "                                              color_mode='rgb',\n",
        "                                              shuffle=True,\n",
        "                                              class_mode='categorical',\n",
        "                                              #subset='training'\n",
        "                                              )\n",
        "\n",
        "val_gen = train_datagen.flow_from_directory(val_dir,\n",
        "                                            target_size=target_size,\n",
        "                                            batch_size=32,\n",
        "                                            color_mode='rgb',\n",
        "                                            shuffle=False,\n",
        "                                            class_mode='categorical',\n",
        "                                            #subset='validation'\n",
        "                                            )\n",
        "\n",
        "\n",
        "#num_class = test_generator.num_classes\n",
        "labels_train = train_gen.class_indices.keys()\n",
        "labels_val = val_gen.class_indices.keys()\n",
        "print(labels_train)\n",
        "print(labels_val)"
      ],
      "metadata": {
        "colab": {
          "base_uri": "https://localhost:8080/"
        },
        "id": "Gt2FQJwaIhTS",
        "outputId": "da7f7653-4fa1-4251-804f-85e071e13590"
      },
      "execution_count": 11,
      "outputs": [
        {
          "output_type": "stream",
          "name": "stdout",
          "text": [
            "Found 3200 images belonging to 4 classes.\n",
            "Found 800 images belonging to 4 classes.\n",
            "dict_keys(['blight', 'gray', 'healthy', 'rust'])\n",
            "dict_keys(['blight', 'gray', 'healthy', 'rust'])\n"
          ]
        }
      ]
    },
    {
      "cell_type": "markdown",
      "source": [
        "Create Model"
      ],
      "metadata": {
        "id": "4fXaU-0fImmA"
      }
    },
    {
      "cell_type": "code",
      "source": [
        "#callback = tf.keras.callbacks.EarlyStopping(monitor='loss', patience=3)\n",
        "model = Sequential()\n",
        "model.add(Conv2D(32,kernel_size=3,strides=1,activation='relu',\n",
        "                 #padding='same',\n",
        "                 input_shape=(32,32,3)))\n",
        "model.add(MaxPooling2D(pool_size=(2,2),strides=1))\n",
        "\n",
        "model.add(Conv2D(64,kernel_size=3,strides=1,activation='relu',\n",
        "                 #padding='same'\n",
        "                 ))\n",
        "model.add(MaxPooling2D(pool_size=(2,2),strides=1))\n",
        "\n",
        "#model.add(Conv2D(128,\n",
        "                  #64,\n",
        " #                kernel_size=3,strides=1,activation='relu',\n",
        "                 #padding='same'\n",
        "#                 ))\n",
        "#model.add(MaxPooling2D(pool_size=(2,2),strides=1))\n",
        "\n",
        "#model.add(Conv2D(128,kernel_size=3,strides=1,activation='relu',padding='same'))\n",
        "#model.add(MaxPooling2D(pool_size=(2,2),strides=1))\n",
        "\n",
        "model.add(Flatten())\n",
        "model.add(Dropout(0.5))#tes 1 0,5 #testing 2 menaikkan menjadi 0,6\n",
        "#model.add(Dense(64,activation='relu'))\n",
        "#model.add(Dense(256,activation='relu'))# testing 2\n",
        "model.add(Dense(128,activation='relu'))\n",
        "model.add(Dense(64,activation='relu'))\n",
        "model.add(Dense(classes,activation='softmax'))\n",
        "\n",
        "model.compile(optimizer='adam',loss='categorical_crossentropy',metrics=['accuracy'])\n",
        "\n"
      ],
      "metadata": {
        "id": "x36aa5G0IhkP"
      },
      "execution_count": 12,
      "outputs": []
    },
    {
      "cell_type": "code",
      "source": [
        "model.summary()"
      ],
      "metadata": {
        "colab": {
          "base_uri": "https://localhost:8080/"
        },
        "id": "4IR1IZhqOqTe",
        "outputId": "e7512731-8e09-4aec-a4b8-9ac62b9bfc90"
      },
      "execution_count": 13,
      "outputs": [
        {
          "output_type": "stream",
          "name": "stdout",
          "text": [
            "Model: \"sequential_1\"\n",
            "_________________________________________________________________\n",
            " Layer (type)                Output Shape              Param #   \n",
            "=================================================================\n",
            " conv2d_2 (Conv2D)           (None, 30, 30, 32)        896       \n",
            "                                                                 \n",
            " max_pooling2d_2 (MaxPooling  (None, 29, 29, 32)       0         \n",
            " 2D)                                                             \n",
            "                                                                 \n",
            " conv2d_3 (Conv2D)           (None, 27, 27, 64)        18496     \n",
            "                                                                 \n",
            " max_pooling2d_3 (MaxPooling  (None, 26, 26, 64)       0         \n",
            " 2D)                                                             \n",
            "                                                                 \n",
            " flatten_1 (Flatten)         (None, 43264)             0         \n",
            "                                                                 \n",
            " dropout_1 (Dropout)         (None, 43264)             0         \n",
            "                                                                 \n",
            " dense_3 (Dense)             (None, 128)               5537920   \n",
            "                                                                 \n",
            " dense_4 (Dense)             (None, 64)                8256      \n",
            "                                                                 \n",
            " dense_5 (Dense)             (None, 4)                 260       \n",
            "                                                                 \n",
            "=================================================================\n",
            "Total params: 5,565,828\n",
            "Trainable params: 5,565,828\n",
            "Non-trainable params: 0\n",
            "_________________________________________________________________\n"
          ]
        }
      ]
    },
    {
      "cell_type": "markdown",
      "source": [
        "Compile model"
      ],
      "metadata": {
        "id": "KCx4ceLNIhrT"
      }
    },
    {
      "cell_type": "code",
      "source": [
        "history = model.fit_generator(\n",
        "    train_gen,epochs=100,validation_data=val_gen, \n",
        "    #callbacks=[callback]\n",
        ")"
      ],
      "metadata": {
        "colab": {
          "base_uri": "https://localhost:8080/"
        },
        "id": "SfgesNDJIhyQ",
        "outputId": "f2c92141-b769-4640-8180-e6ac335677d0"
      },
      "execution_count": 14,
      "outputs": [
        {
          "output_type": "stream",
          "name": "stderr",
          "text": [
            "<ipython-input-14-da5335d2b225>:1: UserWarning: `Model.fit_generator` is deprecated and will be removed in a future version. Please use `Model.fit`, which supports generators.\n",
            "  history = model.fit_generator(\n"
          ]
        },
        {
          "output_type": "stream",
          "name": "stdout",
          "text": [
            "Epoch 1/100\n",
            "100/100 [==============================] - 270s 3s/step - loss: 1.1049 - accuracy: 0.4878 - val_loss: 0.7736 - val_accuracy: 0.6837\n",
            "Epoch 2/100\n",
            "100/100 [==============================] - 21s 205ms/step - loss: 0.7658 - accuracy: 0.6753 - val_loss: 0.6934 - val_accuracy: 0.6950\n",
            "Epoch 3/100\n",
            "100/100 [==============================] - 22s 220ms/step - loss: 0.6584 - accuracy: 0.7300 - val_loss: 0.5077 - val_accuracy: 0.8037\n",
            "Epoch 4/100\n",
            "100/100 [==============================] - 21s 211ms/step - loss: 0.5696 - accuracy: 0.7741 - val_loss: 0.5464 - val_accuracy: 0.7650\n",
            "Epoch 5/100\n",
            "100/100 [==============================] - 22s 219ms/step - loss: 0.4896 - accuracy: 0.8075 - val_loss: 0.4095 - val_accuracy: 0.8388\n",
            "Epoch 6/100\n",
            "100/100 [==============================] - 20s 205ms/step - loss: 0.4665 - accuracy: 0.8131 - val_loss: 0.3905 - val_accuracy: 0.8288\n",
            "Epoch 7/100\n",
            "100/100 [==============================] - 22s 215ms/step - loss: 0.3667 - accuracy: 0.8659 - val_loss: 0.3213 - val_accuracy: 0.8737\n",
            "Epoch 8/100\n",
            "100/100 [==============================] - 22s 217ms/step - loss: 0.2926 - accuracy: 0.8903 - val_loss: 0.3484 - val_accuracy: 0.8863\n",
            "Epoch 9/100\n",
            "100/100 [==============================] - 22s 220ms/step - loss: 0.2968 - accuracy: 0.8941 - val_loss: 0.1604 - val_accuracy: 0.9438\n",
            "Epoch 10/100\n",
            "100/100 [==============================] - 21s 206ms/step - loss: 0.1825 - accuracy: 0.9409 - val_loss: 0.1424 - val_accuracy: 0.9600\n",
            "Epoch 11/100\n",
            "100/100 [==============================] - 21s 208ms/step - loss: 0.1701 - accuracy: 0.9434 - val_loss: 0.0783 - val_accuracy: 0.9800\n",
            "Epoch 12/100\n",
            "100/100 [==============================] - 23s 232ms/step - loss: 0.1174 - accuracy: 0.9625 - val_loss: 0.1490 - val_accuracy: 0.9513\n",
            "Epoch 13/100\n",
            "100/100 [==============================] - 22s 224ms/step - loss: 0.0935 - accuracy: 0.9722 - val_loss: 0.0317 - val_accuracy: 0.9937\n",
            "Epoch 14/100\n",
            "100/100 [==============================] - 22s 221ms/step - loss: 0.1071 - accuracy: 0.9663 - val_loss: 0.0373 - val_accuracy: 0.9925\n",
            "Epoch 15/100\n",
            "100/100 [==============================] - 21s 210ms/step - loss: 0.1290 - accuracy: 0.9550 - val_loss: 0.0542 - val_accuracy: 0.9862\n",
            "Epoch 16/100\n",
            "100/100 [==============================] - 22s 221ms/step - loss: 0.0675 - accuracy: 0.9791 - val_loss: 0.0193 - val_accuracy: 0.9987\n",
            "Epoch 17/100\n",
            "100/100 [==============================] - 22s 222ms/step - loss: 0.0439 - accuracy: 0.9859 - val_loss: 0.0448 - val_accuracy: 0.9912\n",
            "Epoch 18/100\n",
            "100/100 [==============================] - 22s 214ms/step - loss: 0.0519 - accuracy: 0.9853 - val_loss: 0.0172 - val_accuracy: 0.9975\n",
            "Epoch 19/100\n",
            "100/100 [==============================] - 21s 211ms/step - loss: 0.0333 - accuracy: 0.9903 - val_loss: 0.0205 - val_accuracy: 0.9962\n",
            "Epoch 20/100\n",
            "100/100 [==============================] - 22s 224ms/step - loss: 0.0316 - accuracy: 0.9903 - val_loss: 0.0203 - val_accuracy: 0.9937\n",
            "Epoch 21/100\n",
            "100/100 [==============================] - 22s 224ms/step - loss: 0.1265 - accuracy: 0.9550 - val_loss: 0.1824 - val_accuracy: 0.9362\n",
            "Epoch 22/100\n",
            "100/100 [==============================] - 22s 223ms/step - loss: 0.0670 - accuracy: 0.9778 - val_loss: 0.0371 - val_accuracy: 0.9900\n",
            "Epoch 23/100\n",
            "100/100 [==============================] - 21s 212ms/step - loss: 0.0467 - accuracy: 0.9844 - val_loss: 0.0329 - val_accuracy: 0.9950\n",
            "Epoch 24/100\n",
            "100/100 [==============================] - 22s 224ms/step - loss: 0.0332 - accuracy: 0.9903 - val_loss: 0.0115 - val_accuracy: 0.9987\n",
            "Epoch 25/100\n",
            "100/100 [==============================] - 23s 225ms/step - loss: 0.0503 - accuracy: 0.9850 - val_loss: 0.0742 - val_accuracy: 0.9737\n",
            "Epoch 26/100\n",
            "100/100 [==============================] - 22s 219ms/step - loss: 0.0354 - accuracy: 0.9891 - val_loss: 0.0157 - val_accuracy: 0.9962\n",
            "Epoch 27/100\n",
            "100/100 [==============================] - 23s 234ms/step - loss: 0.0371 - accuracy: 0.9872 - val_loss: 0.0227 - val_accuracy: 0.9975\n",
            "Epoch 28/100\n",
            "100/100 [==============================] - 22s 223ms/step - loss: 0.0336 - accuracy: 0.9903 - val_loss: 0.0086 - val_accuracy: 0.9987\n",
            "Epoch 29/100\n",
            "100/100 [==============================] - 21s 212ms/step - loss: 0.0511 - accuracy: 0.9822 - val_loss: 0.0114 - val_accuracy: 0.9987\n",
            "Epoch 30/100\n",
            "100/100 [==============================] - 22s 220ms/step - loss: 0.0146 - accuracy: 0.9959 - val_loss: 0.0050 - val_accuracy: 0.9987\n",
            "Epoch 31/100\n",
            "100/100 [==============================] - 22s 216ms/step - loss: 0.0242 - accuracy: 0.9912 - val_loss: 0.0310 - val_accuracy: 0.9937\n",
            "Epoch 32/100\n",
            "100/100 [==============================] - 22s 224ms/step - loss: 0.0353 - accuracy: 0.9881 - val_loss: 0.0123 - val_accuracy: 0.9975\n",
            "Epoch 33/100\n",
            "100/100 [==============================] - 23s 233ms/step - loss: 0.0192 - accuracy: 0.9934 - val_loss: 0.0071 - val_accuracy: 0.9987\n",
            "Epoch 34/100\n",
            "100/100 [==============================] - 22s 224ms/step - loss: 0.0053 - accuracy: 0.9978 - val_loss: 0.0197 - val_accuracy: 0.9962\n",
            "Epoch 35/100\n",
            "100/100 [==============================] - 22s 220ms/step - loss: 0.0538 - accuracy: 0.9819 - val_loss: 0.0315 - val_accuracy: 0.9925\n",
            "Epoch 36/100\n",
            "100/100 [==============================] - 22s 222ms/step - loss: 0.0248 - accuracy: 0.9894 - val_loss: 0.0140 - val_accuracy: 0.9987\n",
            "Epoch 37/100\n",
            "100/100 [==============================] - 22s 215ms/step - loss: 0.0278 - accuracy: 0.9903 - val_loss: 0.0099 - val_accuracy: 0.9975\n",
            "Epoch 38/100\n",
            "100/100 [==============================] - 21s 206ms/step - loss: 0.0397 - accuracy: 0.9866 - val_loss: 0.0149 - val_accuracy: 0.9937\n",
            "Epoch 39/100\n",
            "100/100 [==============================] - 21s 208ms/step - loss: 0.0220 - accuracy: 0.9934 - val_loss: 0.0099 - val_accuracy: 0.9975\n",
            "Epoch 40/100\n",
            "100/100 [==============================] - 22s 216ms/step - loss: 0.0174 - accuracy: 0.9950 - val_loss: 0.0083 - val_accuracy: 0.9962\n",
            "Epoch 41/100\n",
            "100/100 [==============================] - 22s 218ms/step - loss: 0.0035 - accuracy: 0.9997 - val_loss: 0.0079 - val_accuracy: 0.9987\n",
            "Epoch 42/100\n",
            "100/100 [==============================] - 20s 204ms/step - loss: 0.0016 - accuracy: 0.9997 - val_loss: 0.0056 - val_accuracy: 0.9987\n",
            "Epoch 43/100\n",
            "100/100 [==============================] - 22s 221ms/step - loss: 0.0669 - accuracy: 0.9756 - val_loss: 0.0999 - val_accuracy: 0.9725\n",
            "Epoch 44/100\n",
            "100/100 [==============================] - 21s 214ms/step - loss: 0.0541 - accuracy: 0.9803 - val_loss: 0.0157 - val_accuracy: 0.9962\n",
            "Epoch 45/100\n",
            "100/100 [==============================] - 22s 223ms/step - loss: 0.0209 - accuracy: 0.9925 - val_loss: 0.0308 - val_accuracy: 0.9887\n",
            "Epoch 46/100\n",
            "100/100 [==============================] - 21s 208ms/step - loss: 0.0822 - accuracy: 0.9766 - val_loss: 0.0894 - val_accuracy: 0.9725\n",
            "Epoch 47/100\n",
            "100/100 [==============================] - 23s 232ms/step - loss: 0.0870 - accuracy: 0.9737 - val_loss: 0.0133 - val_accuracy: 0.9975\n",
            "Epoch 48/100\n",
            "100/100 [==============================] - 22s 218ms/step - loss: 0.0080 - accuracy: 0.9978 - val_loss: 0.0146 - val_accuracy: 0.9962\n",
            "Epoch 49/100\n",
            "100/100 [==============================] - 21s 210ms/step - loss: 0.0039 - accuracy: 0.9991 - val_loss: 0.0151 - val_accuracy: 0.9962\n",
            "Epoch 50/100\n",
            "100/100 [==============================] - 22s 220ms/step - loss: 0.0027 - accuracy: 0.9994 - val_loss: 0.0142 - val_accuracy: 0.9975\n",
            "Epoch 51/100\n",
            "100/100 [==============================] - 22s 216ms/step - loss: 0.0014 - accuracy: 0.9997 - val_loss: 0.0053 - val_accuracy: 0.9987\n",
            "Epoch 52/100\n",
            "100/100 [==============================] - 22s 220ms/step - loss: 0.0114 - accuracy: 0.9969 - val_loss: 0.0445 - val_accuracy: 0.9850\n",
            "Epoch 53/100\n",
            "100/100 [==============================] - 21s 212ms/step - loss: 0.0134 - accuracy: 0.9953 - val_loss: 0.0499 - val_accuracy: 0.9887\n",
            "Epoch 54/100\n",
            "100/100 [==============================] - 22s 221ms/step - loss: 0.0636 - accuracy: 0.9797 - val_loss: 0.0146 - val_accuracy: 0.9975\n",
            "Epoch 55/100\n",
            "100/100 [==============================] - 23s 226ms/step - loss: 0.0095 - accuracy: 0.9984 - val_loss: 0.0047 - val_accuracy: 0.9987\n",
            "Epoch 56/100\n",
            "100/100 [==============================] - 22s 218ms/step - loss: 0.0013 - accuracy: 0.9997 - val_loss: 0.0069 - val_accuracy: 0.9987\n",
            "Epoch 57/100\n",
            "100/100 [==============================] - 21s 206ms/step - loss: 0.0107 - accuracy: 0.9959 - val_loss: 0.0057 - val_accuracy: 0.9987\n",
            "Epoch 58/100\n",
            "100/100 [==============================] - 22s 216ms/step - loss: 0.0073 - accuracy: 0.9972 - val_loss: 0.0266 - val_accuracy: 0.9887\n",
            "Epoch 59/100\n",
            "100/100 [==============================] - 21s 213ms/step - loss: 0.0645 - accuracy: 0.9791 - val_loss: 0.1722 - val_accuracy: 0.9262\n",
            "Epoch 60/100\n",
            "100/100 [==============================] - 21s 212ms/step - loss: 0.0378 - accuracy: 0.9881 - val_loss: 0.0111 - val_accuracy: 0.9987\n",
            "Epoch 61/100\n",
            "100/100 [==============================] - 22s 223ms/step - loss: 0.0417 - accuracy: 0.9822 - val_loss: 0.0095 - val_accuracy: 0.9975\n",
            "Epoch 62/100\n",
            "100/100 [==============================] - 22s 218ms/step - loss: 0.0097 - accuracy: 0.9966 - val_loss: 0.0054 - val_accuracy: 0.9987\n",
            "Epoch 63/100\n",
            "100/100 [==============================] - 21s 210ms/step - loss: 0.0032 - accuracy: 0.9987 - val_loss: 0.0043 - val_accuracy: 0.9987\n",
            "Epoch 64/100\n",
            "100/100 [==============================] - 22s 223ms/step - loss: 6.2665e-04 - accuracy: 1.0000 - val_loss: 0.0038 - val_accuracy: 0.9987\n",
            "Epoch 65/100\n",
            "100/100 [==============================] - 23s 227ms/step - loss: 6.3831e-04 - accuracy: 1.0000 - val_loss: 0.0040 - val_accuracy: 0.9987\n",
            "Epoch 66/100\n",
            "100/100 [==============================] - 22s 215ms/step - loss: 9.3211e-04 - accuracy: 0.9997 - val_loss: 0.0068 - val_accuracy: 0.9987\n",
            "Epoch 67/100\n",
            "100/100 [==============================] - 23s 226ms/step - loss: 0.1229 - accuracy: 0.9622 - val_loss: 0.0387 - val_accuracy: 0.9900\n",
            "Epoch 68/100\n",
            "100/100 [==============================] - 22s 223ms/step - loss: 0.0223 - accuracy: 0.9916 - val_loss: 0.0054 - val_accuracy: 0.9987\n",
            "Epoch 69/100\n",
            "100/100 [==============================] - 21s 210ms/step - loss: 0.0120 - accuracy: 0.9969 - val_loss: 0.0030 - val_accuracy: 1.0000\n",
            "Epoch 70/100\n",
            "100/100 [==============================] - 23s 226ms/step - loss: 0.0056 - accuracy: 0.9984 - val_loss: 0.0063 - val_accuracy: 0.9987\n",
            "Epoch 71/100\n",
            "100/100 [==============================] - 21s 204ms/step - loss: 0.0046 - accuracy: 0.9981 - val_loss: 0.0043 - val_accuracy: 0.9975\n",
            "Epoch 72/100\n",
            "100/100 [==============================] - 22s 219ms/step - loss: 0.0065 - accuracy: 0.9978 - val_loss: 0.0090 - val_accuracy: 0.9987\n",
            "Epoch 73/100\n",
            "100/100 [==============================] - 22s 219ms/step - loss: 5.7217e-04 - accuracy: 1.0000 - val_loss: 0.0089 - val_accuracy: 0.9987\n",
            "Epoch 74/100\n",
            "100/100 [==============================] - 21s 213ms/step - loss: 0.0093 - accuracy: 0.9962 - val_loss: 0.0096 - val_accuracy: 0.9987\n",
            "Epoch 75/100\n",
            "100/100 [==============================] - 21s 206ms/step - loss: 0.0212 - accuracy: 0.9931 - val_loss: 0.0086 - val_accuracy: 0.9975\n",
            "Epoch 76/100\n",
            "100/100 [==============================] - 22s 215ms/step - loss: 0.0181 - accuracy: 0.9937 - val_loss: 0.0092 - val_accuracy: 0.9987\n",
            "Epoch 77/100\n",
            "100/100 [==============================] - 22s 218ms/step - loss: 0.0179 - accuracy: 0.9941 - val_loss: 0.0094 - val_accuracy: 0.9975\n",
            "Epoch 78/100\n",
            "100/100 [==============================] - 23s 226ms/step - loss: 0.0075 - accuracy: 0.9975 - val_loss: 0.0726 - val_accuracy: 0.9875\n",
            "Epoch 79/100\n",
            "100/100 [==============================] - 20s 204ms/step - loss: 0.0202 - accuracy: 0.9953 - val_loss: 0.0107 - val_accuracy: 0.9962\n",
            "Epoch 80/100\n",
            "100/100 [==============================] - 22s 218ms/step - loss: 0.1219 - accuracy: 0.9619 - val_loss: 0.0506 - val_accuracy: 0.9850\n",
            "Epoch 81/100\n",
            "100/100 [==============================] - 21s 211ms/step - loss: 0.0160 - accuracy: 0.9941 - val_loss: 0.0135 - val_accuracy: 0.9975\n",
            "Epoch 82/100\n",
            "100/100 [==============================] - 21s 209ms/step - loss: 0.0010 - accuracy: 1.0000 - val_loss: 0.0078 - val_accuracy: 0.9975\n",
            "Epoch 83/100\n",
            "100/100 [==============================] - 22s 223ms/step - loss: 4.6341e-04 - accuracy: 1.0000 - val_loss: 0.0076 - val_accuracy: 0.9975\n",
            "Epoch 84/100\n",
            "100/100 [==============================] - 21s 209ms/step - loss: 4.7129e-04 - accuracy: 1.0000 - val_loss: 0.0047 - val_accuracy: 0.9987\n",
            "Epoch 85/100\n",
            "100/100 [==============================] - 22s 221ms/step - loss: 2.8363e-04 - accuracy: 1.0000 - val_loss: 0.0072 - val_accuracy: 0.9975\n",
            "Epoch 86/100\n",
            "100/100 [==============================] - 22s 219ms/step - loss: 1.5277e-04 - accuracy: 1.0000 - val_loss: 0.0063 - val_accuracy: 0.9987\n",
            "Epoch 87/100\n",
            "100/100 [==============================] - 21s 208ms/step - loss: 2.9196e-04 - accuracy: 1.0000 - val_loss: 0.0071 - val_accuracy: 0.9987\n",
            "Epoch 88/100\n",
            "100/100 [==============================] - 22s 218ms/step - loss: 0.0047 - accuracy: 0.9984 - val_loss: 0.0682 - val_accuracy: 0.9762\n",
            "Epoch 89/100\n",
            "100/100 [==============================] - 22s 220ms/step - loss: 0.0282 - accuracy: 0.9906 - val_loss: 0.0376 - val_accuracy: 0.9887\n",
            "Epoch 90/100\n",
            "100/100 [==============================] - 21s 209ms/step - loss: 0.0592 - accuracy: 0.9834 - val_loss: 0.0027 - val_accuracy: 1.0000\n",
            "Epoch 91/100\n",
            "100/100 [==============================] - 21s 208ms/step - loss: 0.0064 - accuracy: 0.9975 - val_loss: 0.0010 - val_accuracy: 1.0000\n",
            "Epoch 92/100\n",
            "100/100 [==============================] - 22s 220ms/step - loss: 6.4387e-04 - accuracy: 1.0000 - val_loss: 0.0043 - val_accuracy: 0.9987\n",
            "Epoch 93/100\n",
            "100/100 [==============================] - 22s 218ms/step - loss: 0.0024 - accuracy: 0.9994 - val_loss: 0.0107 - val_accuracy: 0.9975\n",
            "Epoch 94/100\n",
            "100/100 [==============================] - 22s 220ms/step - loss: 0.0194 - accuracy: 0.9944 - val_loss: 0.0264 - val_accuracy: 0.9962\n",
            "Epoch 95/100\n",
            "100/100 [==============================] - 21s 214ms/step - loss: 0.0289 - accuracy: 0.9919 - val_loss: 0.0095 - val_accuracy: 0.9975\n",
            "Epoch 96/100\n",
            "100/100 [==============================] - 20s 203ms/step - loss: 0.0339 - accuracy: 0.9887 - val_loss: 0.0068 - val_accuracy: 0.9987\n",
            "Epoch 97/100\n",
            "100/100 [==============================] - 22s 220ms/step - loss: 0.0398 - accuracy: 0.9878 - val_loss: 0.0171 - val_accuracy: 0.9937\n",
            "Epoch 98/100\n",
            "100/100 [==============================] - 21s 213ms/step - loss: 0.0181 - accuracy: 0.9953 - val_loss: 0.0024 - val_accuracy: 0.9987\n",
            "Epoch 99/100\n",
            "100/100 [==============================] - 22s 221ms/step - loss: 0.0025 - accuracy: 0.9987 - val_loss: 0.0018 - val_accuracy: 0.9987\n",
            "Epoch 100/100\n",
            "100/100 [==============================] - 20s 205ms/step - loss: 3.2135e-04 - accuracy: 1.0000 - val_loss: 0.0022 - val_accuracy: 0.9987\n"
          ]
        }
      ]
    },
    {
      "cell_type": "code",
      "source": [
        "import numpy as np\n",
        "from sklearn.metrics import confusion_matrix, classification_report\n",
        "prediksi = model.predict(val_gen) #_generator\n",
        "y_pred = np.argmax(prediksi, axis = 1)\n",
        "labels_val = val_gen.class_indices.keys()\n",
        "print(labels_train)\n",
        "print(confusion_matrix(val_gen.classes,y_pred))\n"
      ],
      "metadata": {
        "colab": {
          "base_uri": "https://localhost:8080/"
        },
        "id": "xa_snfzWIrue",
        "outputId": "eca02c4c-6b2f-4a85-8b09-700d06ebe7ed"
      },
      "execution_count": 19,
      "outputs": [
        {
          "output_type": "stream",
          "name": "stdout",
          "text": [
            "25/25 [==============================] - 2s 76ms/step\n",
            "dict_keys(['blight', 'gray', 'healthy', 'rust'])\n",
            "[[200   0   0   0]\n",
            " [  0 200   0   0]\n",
            " [  0   0 200   0]\n",
            " [  0   1   0 199]]\n"
          ]
        }
      ]
    },
    {
      "cell_type": "code",
      "source": [
        "print(classification_report(val_gen.classes,y_pred))"
      ],
      "metadata": {
        "colab": {
          "base_uri": "https://localhost:8080/"
        },
        "id": "YDllJkEqruYh",
        "outputId": "ce8a462e-3d32-4057-97b0-2960954935c3"
      },
      "execution_count": 16,
      "outputs": [
        {
          "output_type": "stream",
          "name": "stdout",
          "text": [
            "              precision    recall  f1-score   support\n",
            "\n",
            "           0       1.00      1.00      1.00       200\n",
            "           1       1.00      1.00      1.00       200\n",
            "           2       1.00      1.00      1.00       200\n",
            "           3       1.00      0.99      1.00       200\n",
            "\n",
            "    accuracy                           1.00       800\n",
            "   macro avg       1.00      1.00      1.00       800\n",
            "weighted avg       1.00      1.00      1.00       800\n",
            "\n"
          ]
        }
      ]
    },
    {
      "cell_type": "code",
      "source": [
        "plt.plot(history.history['accuracy'], label='training accuracy')\n",
        "plt.plot(history.history['val_accuracy'], label='validation accuracy')\n",
        "plt.xlabel('epoch')\n",
        "plt.ylabel('accuracy')\n",
        "plt.legend()\n",
        "plt.show()"
      ],
      "metadata": {
        "colab": {
          "base_uri": "https://localhost:8080/",
          "height": 449
        },
        "id": "GKc2FXsMyxN5",
        "outputId": "1dbd8b10-2bc4-49ed-b501-aa1361a2d01f"
      },
      "execution_count": 17,
      "outputs": [
        {
          "output_type": "display_data",
          "data": {
            "text/plain": [
              "<Figure size 640x480 with 1 Axes>"
            ],
            "image/png": "[encoded data removed]"
          },
          "metadata": {}
        }
      ]
    }
  ]
}