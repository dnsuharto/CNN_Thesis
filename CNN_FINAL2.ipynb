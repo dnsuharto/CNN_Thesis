{
  "nbformat": 4,
  "nbformat_minor": 0,
  "metadata": {
    "colab": {
      "provenance": [],
      "mount_file_id": "1PUiVsnDhfdjYoN-TYkHDrfmKsyf9NMoc",
      "authorship_tag": "ABX9TyPDDZ4HmVTEbzBJ5kmIXWkK"
    },
    "kernelspec": {
      "name": "python3",
      "display_name": "Python 3"
    },
    "language_info": {
      "name": "python"
    }
  },
  "cells": [
    {
      "cell_type": "markdown",
      "source": [
        "Import Library"
      ],
      "metadata": {
        "id": "WlMK4V4MIcpb"
      }
    },
    {
      "cell_type": "code",
      "execution_count": 28,
      "metadata": {
        "id": "Y2VxsfJhIWCB"
      },
      "outputs": [],
      "source": [
        "from keras.models import Sequential\n",
        "from keras.layers import Conv2D, MaxPooling2D, Flatten, Dense, Dropout\n",
        "from keras.preprocessing.image import ImageDataGenerator\n",
        "import matplotlib.pyplot as plt"
      ]
    },
    {
      "cell_type": "markdown",
      "source": [
        "Prepare Data"
      ],
      "metadata": {
        "id": "Fy8w6KCzIhJp"
      }
    },
    {
      "cell_type": "code",
      "source": [
        "train_dir = '/content/drive/MyDrive/Latihan/training'\n",
        "val_dir = '/content/drive/MyDrive/Latihan/validation'\n",
        "target_size = (32,32)\n",
        "classes = 4\n",
        "\n",
        "train_datagen = ImageDataGenerator(rescale=1./255,\n",
        "                                   horizontal_flip=True,\n",
        "                                   vertical_flip=True,\n",
        "                                   rotation_range=45,\n",
        "                                   zoom_range=0.1,\n",
        "                                   #validation_split=0.3\n",
        "                                   )\n",
        "\n",
        "val_datagen = ImageDataGenerator(rescale=1./255,horizontal_flip=True,\n",
        "                                   vertical_flip=True,\n",
        "                                   #rotation_range=45,\n",
        "                                   zoom_range=0.1,)\n",
        "\n",
        "train_gen = train_datagen.flow_from_directory(train_dir,\n",
        "                                              target_size=target_size,\n",
        "                                              batch_size=32,\n",
        "                                              color_mode='rgb',\n",
        "                                              shuffle=True,\n",
        "                                              class_mode='categorical',\n",
        "                                              #subset='training'\n",
        "                                              )\n",
        "\n",
        "val_gen = train_datagen.flow_from_directory(val_dir,\n",
        "                                            target_size=target_size,\n",
        "                                            batch_size=32,\n",
        "                                            color_mode='rgb',\n",
        "                                            shuffle=False,\n",
        "                                            class_mode='categorical',\n",
        "                                            #subset='validation'\n",
        "                                            )\n",
        "\n",
        "\n",
        "#num_class = test_generator.num_classes\n",
        "labels_train = train_gen.class_indices.keys()\n",
        "labels_val = val_gen.class_indices.keys()\n",
        "print(labels_train)\n",
        "print(labels_val)"
      ],
      "metadata": {
        "colab": {
          "base_uri": "https://localhost:8080/"
        },
        "id": "Gt2FQJwaIhTS",
        "outputId": "e650edfa-0d5b-4ec7-d5bb-790dd36f8f42"
      },
      "execution_count": 29,
      "outputs": [
        {
          "output_type": "stream",
          "name": "stdout",
          "text": [
            "Found 3200 images belonging to 4 classes.\n",
            "Found 800 images belonging to 4 classes.\n",
            "dict_keys(['blight', 'gray', 'healthy', 'rust'])\n",
            "dict_keys(['blight', 'gray', 'healthy', 'rust'])\n"
          ]
        }
      ]
    },
    {
      "cell_type": "markdown",
      "source": [
        "Create Model"
      ],
      "metadata": {
        "id": "4fXaU-0fImmA"
      }
    },
    {
      "cell_type": "code",
      "source": [
        "#callback = tf.keras.callbacks.EarlyStopping(monitor='loss', patience=3)\n",
        "model = Sequential()\n",
        "model.add(Conv2D(32,kernel_size=3,strides=1,activation='relu',\n",
        "                 #padding='same',\n",
        "                 input_shape=(32,32,3)))\n",
        "model.add(MaxPooling2D(pool_size=(2,2),strides=1))\n",
        "\n",
        "model.add(Conv2D(64,kernel_size=3,strides=1,activation='relu',\n",
        "                 #padding='same'\n",
        "                 ))\n",
        "model.add(MaxPooling2D(pool_size=(2,2),strides=1))\n",
        "\n",
        "#model.add(Conv2D(128,\n",
        "                  #64,\n",
        " #                kernel_size=3,strides=1,activation='relu',\n",
        "                 #padding='same'\n",
        "#                 ))\n",
        "#model.add(MaxPooling2D(pool_size=(2,2),strides=1))\n",
        "\n",
        "#model.add(Conv2D(128,kernel_size=3,strides=1,activation='relu',padding='same'))\n",
        "#model.add(MaxPooling2D(pool_size=(2,2),strides=1))\n",
        "\n",
        "model.add(Flatten())\n",
        "model.add(Dropout(0.5))#tes 1 0,5 #testing 2 menaikkan menjadi 0,6\n",
        "#model.add(Dense(64,activation='relu'))\n",
        "#model.add(Dense(256,activation='relu'))# testing 2\n",
        "model.add(Dense(128,activation='relu'))\n",
        "model.add(Dense(64,activation='relu'))\n",
        "model.add(Dense(classes,activation='softmax'))\n",
        "\n",
        "model.compile(optimizer='adam',loss='categorical_crossentropy',metrics=['accuracy'])\n",
        "\n"
      ],
      "metadata": {
        "id": "x36aa5G0IhkP"
      },
      "execution_count": 30,
      "outputs": []
    },
    {
      "cell_type": "code",
      "source": [
        "model.summary()"
      ],
      "metadata": {
        "colab": {
          "base_uri": "https://localhost:8080/"
        },
        "id": "4IR1IZhqOqTe",
        "outputId": "104ef26a-c189-4d1e-e318-2a6b1111fe90"
      },
      "execution_count": 31,
      "outputs": [
        {
          "output_type": "stream",
          "name": "stdout",
          "text": [
            "Model: \"sequential_3\"\n",
            "_________________________________________________________________\n",
            " Layer (type)                Output Shape              Param #   \n",
            "=================================================================\n",
            " conv2d_6 (Conv2D)           (None, 30, 30, 32)        896       \n",
            "                                                                 \n",
            " max_pooling2d_6 (MaxPooling  (None, 29, 29, 32)       0         \n",
            " 2D)                                                             \n",
            "                                                                 \n",
            " conv2d_7 (Conv2D)           (None, 27, 27, 64)        18496     \n",
            "                                                                 \n",
            " max_pooling2d_7 (MaxPooling  (None, 26, 26, 64)       0         \n",
            " 2D)                                                             \n",
            "                                                                 \n",
            " flatten_3 (Flatten)         (None, 43264)             0         \n",
            "                                                                 \n",
            " dropout_3 (Dropout)         (None, 43264)             0         \n",
            "                                                                 \n",
            " dense_9 (Dense)             (None, 128)               5537920   \n",
            "                                                                 \n",
            " dense_10 (Dense)            (None, 64)                8256      \n",
            "                                                                 \n",
            " dense_11 (Dense)            (None, 4)                 260       \n",
            "                                                                 \n",
            "=================================================================\n",
            "Total params: 5,565,828\n",
            "Trainable params: 5,565,828\n",
            "Non-trainable params: 0\n",
            "_________________________________________________________________\n"
          ]
        }
      ]
    },
    {
      "cell_type": "markdown",
      "source": [
        "Compile model"
      ],
      "metadata": {
        "id": "KCx4ceLNIhrT"
      }
    },
    {
      "cell_type": "code",
      "source": [
        "history = model.fit_generator(\n",
        "    train_gen,epochs=50,validation_data=val_gen, \n",
        "    #callbacks=[callback]\n",
        ")"
      ],
      "metadata": {
        "colab": {
          "base_uri": "https://localhost:8080/"
        },
        "id": "SfgesNDJIhyQ",
        "outputId": "4169d7cf-3103-4671-84c6-ddeb9aedc222"
      },
      "execution_count": 32,
      "outputs": [
        {
          "output_type": "stream",
          "name": "stderr",
          "text": [
            "<ipython-input-32-7d97c4944c00>:1: UserWarning: `Model.fit_generator` is deprecated and will be removed in a future version. Please use `Model.fit`, which supports generators.\n",
            "  history = model.fit_generator(\n"
          ]
        },
        {
          "output_type": "stream",
          "name": "stdout",
          "text": [
            "Epoch 1/50\n",
            "100/100 [==============================] - 24s 229ms/step - loss: 1.1366 - accuracy: 0.4778 - val_loss: 0.9717 - val_accuracy: 0.5788\n",
            "Epoch 2/50\n",
            "100/100 [==============================] - 23s 232ms/step - loss: 0.8535 - accuracy: 0.6381 - val_loss: 0.6718 - val_accuracy: 0.7563\n",
            "Epoch 3/50\n",
            "100/100 [==============================] - 23s 234ms/step - loss: 0.7689 - accuracy: 0.6756 - val_loss: 0.8740 - val_accuracy: 0.6137\n",
            "Epoch 4/50\n",
            "100/100 [==============================] - 22s 218ms/step - loss: 0.7377 - accuracy: 0.7025 - val_loss: 0.6350 - val_accuracy: 0.7425\n",
            "Epoch 5/50\n",
            "100/100 [==============================] - 23s 233ms/step - loss: 0.6724 - accuracy: 0.7225 - val_loss: 0.6599 - val_accuracy: 0.7538\n",
            "Epoch 6/50\n",
            "100/100 [==============================] - 23s 230ms/step - loss: 0.6373 - accuracy: 0.7456 - val_loss: 0.5764 - val_accuracy: 0.7738\n",
            "Epoch 7/50\n",
            "100/100 [==============================] - 23s 229ms/step - loss: 0.5981 - accuracy: 0.7588 - val_loss: 0.4362 - val_accuracy: 0.8425\n",
            "Epoch 8/50\n",
            "100/100 [==============================] - 23s 232ms/step - loss: 0.5950 - accuracy: 0.7600 - val_loss: 0.6732 - val_accuracy: 0.7563\n",
            "Epoch 9/50\n",
            "100/100 [==============================] - 23s 227ms/step - loss: 0.5610 - accuracy: 0.7719 - val_loss: 0.4641 - val_accuracy: 0.8075\n",
            "Epoch 10/50\n",
            "100/100 [==============================] - 23s 231ms/step - loss: 0.4894 - accuracy: 0.8109 - val_loss: 0.4352 - val_accuracy: 0.8462\n",
            "Epoch 11/50\n",
            "100/100 [==============================] - 23s 230ms/step - loss: 0.4854 - accuracy: 0.8091 - val_loss: 0.4031 - val_accuracy: 0.8413\n",
            "Epoch 12/50\n",
            "100/100 [==============================] - 23s 230ms/step - loss: 0.4672 - accuracy: 0.8087 - val_loss: 0.3685 - val_accuracy: 0.8875\n",
            "Epoch 13/50\n",
            "100/100 [==============================] - 23s 226ms/step - loss: 0.4198 - accuracy: 0.8319 - val_loss: 0.3508 - val_accuracy: 0.8650\n",
            "Epoch 14/50\n",
            "100/100 [==============================] - 23s 231ms/step - loss: 0.4269 - accuracy: 0.8356 - val_loss: 0.3233 - val_accuracy: 0.8750\n",
            "Epoch 15/50\n",
            "100/100 [==============================] - 22s 225ms/step - loss: 0.3984 - accuracy: 0.8438 - val_loss: 0.3729 - val_accuracy: 0.8600\n",
            "Epoch 16/50\n",
            "100/100 [==============================] - 22s 222ms/step - loss: 0.3625 - accuracy: 0.8562 - val_loss: 0.3802 - val_accuracy: 0.8500\n",
            "Epoch 17/50\n",
            "100/100 [==============================] - 23s 234ms/step - loss: 0.3973 - accuracy: 0.8409 - val_loss: 0.3105 - val_accuracy: 0.8838\n",
            "Epoch 18/50\n",
            "100/100 [==============================] - 22s 218ms/step - loss: 0.3672 - accuracy: 0.8516 - val_loss: 0.3147 - val_accuracy: 0.8788\n",
            "Epoch 19/50\n",
            "100/100 [==============================] - 23s 231ms/step - loss: 0.3513 - accuracy: 0.8662 - val_loss: 0.3169 - val_accuracy: 0.8800\n",
            "Epoch 20/50\n",
            "100/100 [==============================] - 22s 218ms/step - loss: 0.3258 - accuracy: 0.8744 - val_loss: 0.2399 - val_accuracy: 0.8963\n",
            "Epoch 21/50\n",
            "100/100 [==============================] - 23s 230ms/step - loss: 0.3163 - accuracy: 0.8847 - val_loss: 0.2518 - val_accuracy: 0.8950\n",
            "Epoch 22/50\n",
            "100/100 [==============================] - 22s 221ms/step - loss: 0.3080 - accuracy: 0.8831 - val_loss: 0.2372 - val_accuracy: 0.9062\n",
            "Epoch 23/50\n",
            "100/100 [==============================] - 23s 231ms/step - loss: 0.3109 - accuracy: 0.8838 - val_loss: 0.2018 - val_accuracy: 0.9287\n",
            "Epoch 24/50\n",
            "100/100 [==============================] - 23s 233ms/step - loss: 0.2732 - accuracy: 0.8944 - val_loss: 0.2448 - val_accuracy: 0.8963\n",
            "Epoch 25/50\n",
            "100/100 [==============================] - 23s 230ms/step - loss: 0.2619 - accuracy: 0.8988 - val_loss: 0.2168 - val_accuracy: 0.9075\n",
            "Epoch 26/50\n",
            "100/100 [==============================] - 23s 230ms/step - loss: 0.2658 - accuracy: 0.9009 - val_loss: 0.2166 - val_accuracy: 0.9112\n",
            "Epoch 27/50\n",
            "100/100 [==============================] - 23s 234ms/step - loss: 0.2230 - accuracy: 0.9172 - val_loss: 0.1437 - val_accuracy: 0.9525\n",
            "Epoch 28/50\n",
            "100/100 [==============================] - 23s 234ms/step - loss: 0.2391 - accuracy: 0.9094 - val_loss: 0.1853 - val_accuracy: 0.9337\n",
            "Epoch 29/50\n",
            "100/100 [==============================] - 23s 231ms/step - loss: 0.2121 - accuracy: 0.9262 - val_loss: 0.1760 - val_accuracy: 0.9337\n",
            "Epoch 30/50\n",
            "100/100 [==============================] - 24s 237ms/step - loss: 0.2474 - accuracy: 0.9016 - val_loss: 0.1708 - val_accuracy: 0.9375\n",
            "Epoch 31/50\n",
            "100/100 [==============================] - 22s 222ms/step - loss: 0.2174 - accuracy: 0.9162 - val_loss: 0.1803 - val_accuracy: 0.9237\n",
            "Epoch 32/50\n",
            "100/100 [==============================] - 23s 231ms/step - loss: 0.1714 - accuracy: 0.9322 - val_loss: 0.2115 - val_accuracy: 0.9100\n",
            "Epoch 33/50\n",
            "100/100 [==============================] - 23s 231ms/step - loss: 0.2520 - accuracy: 0.9072 - val_loss: 0.1413 - val_accuracy: 0.9488\n",
            "Epoch 34/50\n",
            "100/100 [==============================] - 22s 219ms/step - loss: 0.2096 - accuracy: 0.9237 - val_loss: 0.1594 - val_accuracy: 0.9400\n",
            "Epoch 35/50\n",
            "100/100 [==============================] - 23s 230ms/step - loss: 0.1899 - accuracy: 0.9303 - val_loss: 0.2172 - val_accuracy: 0.9187\n",
            "Epoch 36/50\n",
            "100/100 [==============================] - 22s 218ms/step - loss: 0.1794 - accuracy: 0.9297 - val_loss: 0.1560 - val_accuracy: 0.9450\n",
            "Epoch 37/50\n",
            "100/100 [==============================] - 24s 237ms/step - loss: 0.1905 - accuracy: 0.9341 - val_loss: 0.1441 - val_accuracy: 0.9513\n",
            "Epoch 38/50\n",
            "100/100 [==============================] - 23s 230ms/step - loss: 0.1932 - accuracy: 0.9275 - val_loss: 0.1627 - val_accuracy: 0.9388\n",
            "Epoch 39/50\n",
            "100/100 [==============================] - 23s 231ms/step - loss: 0.1920 - accuracy: 0.9328 - val_loss: 0.2467 - val_accuracy: 0.9038\n",
            "Epoch 40/50\n",
            "100/100 [==============================] - 22s 219ms/step - loss: 0.1861 - accuracy: 0.9281 - val_loss: 0.0957 - val_accuracy: 0.9650\n",
            "Epoch 41/50\n",
            "100/100 [==============================] - 23s 229ms/step - loss: 0.1981 - accuracy: 0.9284 - val_loss: 0.1341 - val_accuracy: 0.9513\n",
            "Epoch 42/50\n",
            "100/100 [==============================] - 23s 231ms/step - loss: 0.1820 - accuracy: 0.9294 - val_loss: 0.1459 - val_accuracy: 0.9325\n",
            "Epoch 43/50\n",
            "100/100 [==============================] - 22s 223ms/step - loss: 0.1624 - accuracy: 0.9409 - val_loss: 0.0660 - val_accuracy: 0.9762\n",
            "Epoch 44/50\n",
            "100/100 [==============================] - 23s 233ms/step - loss: 0.1744 - accuracy: 0.9356 - val_loss: 0.2734 - val_accuracy: 0.8800\n",
            "Epoch 45/50\n",
            "100/100 [==============================] - 25s 247ms/step - loss: 0.1836 - accuracy: 0.9319 - val_loss: 0.0959 - val_accuracy: 0.9625\n",
            "Epoch 46/50\n",
            "100/100 [==============================] - 23s 231ms/step - loss: 0.1244 - accuracy: 0.9584 - val_loss: 0.0962 - val_accuracy: 0.9613\n",
            "Epoch 47/50\n",
            "100/100 [==============================] - 23s 228ms/step - loss: 0.1514 - accuracy: 0.9438 - val_loss: 0.2596 - val_accuracy: 0.8938\n",
            "Epoch 48/50\n",
            "100/100 [==============================] - 23s 232ms/step - loss: 0.1835 - accuracy: 0.9284 - val_loss: 0.0978 - val_accuracy: 0.9663\n",
            "Epoch 49/50\n",
            "100/100 [==============================] - 23s 231ms/step - loss: 0.1494 - accuracy: 0.9497 - val_loss: 0.0776 - val_accuracy: 0.9762\n",
            "Epoch 50/50\n",
            "100/100 [==============================] - 23s 231ms/step - loss: 0.1331 - accuracy: 0.9472 - val_loss: 0.0828 - val_accuracy: 0.9762\n"
          ]
        }
      ]
    },
    {
      "cell_type": "code",
      "source": [
        "import numpy as np\n",
        "from sklearn.metrics import confusion_matrix, classification_report\n",
        "prediksi = model.predict(val_gen) #_generator\n",
        "y_pred = np.argmax(prediksi, axis = 1)\n",
        "labels_val = val_gen.class_indices.keys()\n",
        "print(labels_train)\n",
        "print(confusion_matrix(val_gen.classes,y_pred))\n"
      ],
      "metadata": {
        "colab": {
          "base_uri": "https://localhost:8080/"
        },
        "id": "xa_snfzWIrue",
        "outputId": "47820735-d1ad-4907-97b7-c4a9f01aac7e"
      },
      "execution_count": 40,
      "outputs": [
        {
          "output_type": "stream",
          "name": "stdout",
          "text": [
            "25/25 [==============================] - 2s 92ms/step\n",
            "dict_keys(['blight', 'gray', 'healthy', 'rust'])\n",
            "[[197   2   1   0]\n",
            " [  1 197   1   1]\n",
            " [  0   0 199   1]\n",
            " [  6   2   0 192]]\n"
          ]
        }
      ]
    },
    {
      "cell_type": "code",
      "source": [
        "print(classification_report(val_gen.classes,y_pred))"
      ],
      "metadata": {
        "colab": {
          "base_uri": "https://localhost:8080/"
        },
        "id": "YDllJkEqruYh",
        "outputId": "dddd61da-251e-47d4-a652-41a16f04fbb4"
      },
      "execution_count": 41,
      "outputs": [
        {
          "output_type": "stream",
          "name": "stdout",
          "text": [
            "              precision    recall  f1-score   support\n",
            "\n",
            "           0       0.97      0.98      0.98       200\n",
            "           1       0.98      0.98      0.98       200\n",
            "           2       0.99      0.99      0.99       200\n",
            "           3       0.99      0.96      0.97       200\n",
            "\n",
            "    accuracy                           0.98       800\n",
            "   macro avg       0.98      0.98      0.98       800\n",
            "weighted avg       0.98      0.98      0.98       800\n",
            "\n"
          ]
        }
      ]
    },
    {
      "cell_type": "code",
      "source": [
        "plt.plot(history.history['accuracy'], label='training accuracy')\n",
        "plt.plot(history.history['val_accuracy'], label='validation accuracy')\n",
        "plt.xlabel('epoch')\n",
        "plt.ylabel('accuracy')\n",
        "plt.legend()\n",
        "plt.show()"
      ],
      "metadata": {
        "colab": {
          "base_uri": "https://localhost:8080/",
          "height": 454
        },
        "id": "GKc2FXsMyxN5",
        "outputId": "f552dc1e-b181-43d6-a40a-3fc8ea7fe7fe"
      },
      "execution_count": 35,
      "outputs": [
        {
          "output_type": "display_data",
          "data": {
            "text/plain": [
              "<Figure size 640x480 with 1 Axes>"
            ],
            "image/png": "[encoded data removed]"
          },
          "metadata": {}
        }
      ]
    }
  ]
}