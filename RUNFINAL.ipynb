{
  "nbformat": 4,
  "nbformat_minor": 0,
  "metadata": {
    "colab": {
      "provenance": [],
      "mount_file_id": "1PUiVsnDhfdjYoN-TYkHDrfmKsyf9NMoc",
      "authorship_tag": "ABX9TyNi/By7X+rv0lOpBMlD7SHw",
      "include_colab_link": true
    },
    "kernelspec": {
      "name": "python3",
      "display_name": "Python 3"
    },
    "language_info": {
      "name": "python"
    }
  },
  "cells": [
    {
      "cell_type": "markdown",
      "metadata": {
        "id": "view-in-github",
        "colab_type": "text"
      },
      "source": [
        "<a href=\"https://colab.research.google.com/github/dnsuharto/CNN_Thesis/blob/testing_akurasi/RUNFINAL.ipynb\" target=\"_parent\"><img src=\"https://colab.research.google.com/assets/colab-badge.svg\" alt=\"Open In Colab\"/></a>"
      ]
    },
    {
      "cell_type": "code",
      "source": [
        "from google.colab import drive\n",
        "drive.mount('/content/drive')"
      ],
      "metadata": {
        "colab": {
          "base_uri": "https://localhost:8080/"
        },
        "id": "YX-McYHH8hm0",
        "outputId": "796b5e15-0bbc-4472-d0f6-a96a6e53cd1f"
      },
      "execution_count": 1,
      "outputs": [
        {
          "output_type": "stream",
          "name": "stdout",
          "text": [
            "Drive already mounted at /content/drive; to attempt to forcibly remount, call drive.mount(\"/content/drive\", force_remount=True).\n"
          ]
        }
      ]
    },
    {
      "cell_type": "markdown",
      "source": [
        "Import Library"
      ],
      "metadata": {
        "id": "WlMK4V4MIcpb"
      }
    },
    {
      "cell_type": "code",
      "execution_count": 2,
      "metadata": {
        "id": "Y2VxsfJhIWCB"
      },
      "outputs": [],
      "source": [
        "from keras.models import Sequential\n",
        "from keras.layers import Conv2D, MaxPooling2D, Flatten, Dense, Dropout\n",
        "from keras.preprocessing.image import ImageDataGenerator\n",
        "import matplotlib.pyplot as plt\n",
        "import numpy as np\n",
        "from sklearn.metrics import confusion_matrix, classification_report"
      ]
    },
    {
      "cell_type": "markdown",
      "source": [
        "Prepare Data"
      ],
      "metadata": {
        "id": "Fy8w6KCzIhJp"
      }
    },
    {
      "cell_type": "code",
      "source": [
        "train_dir = '/content/drive/MyDrive/Latihan/training'\n",
        "val_dir = '/content/drive/MyDrive/Latihan/validation'\n",
        "test_dir ='/content/drive/MyDrive/Latihan/test'\n",
        "target_size = (32,32)\n",
        "classes = 4\n",
        "\n",
        "train_datagen = ImageDataGenerator(rescale=1./255,\n",
        "                                   #horizontal_flip=True,\n",
        "                                   #vertical_flip=True,\n",
        "                                   #rotation_range=45,\n",
        "                                   #zoom_range=0.1,\n",
        "                                   #validation_split=0.3\n",
        "                                   )\n",
        "\n",
        "val_datagen = ImageDataGenerator(rescale=1./255,\n",
        "                                 #horizontal_flip=True,\n",
        "                                  # vertical_flip=True,\n",
        "                                   #rotation_range=90,\n",
        "                                   #zoom_range=0.1,\n",
        "                                 )\n",
        "test_datagen = ImageDataGenerator(rescale=1./255)\n",
        "\n",
        "train_gen = train_datagen.flow_from_directory(train_dir,\n",
        "                                              target_size=target_size,\n",
        "                                              batch_size=32,\n",
        "                                              color_mode='rgb',\n",
        "                                              shuffle=True,\n",
        "                                              class_mode='categorical',\n",
        "                                              #subset='training'\n",
        "                                              )\n",
        "\n",
        "val_gen = val_datagen.flow_from_directory(val_dir,\n",
        "                                            target_size=target_size,\n",
        "                                            batch_size=32,\n",
        "                                            color_mode='rgb',\n",
        "                                            shuffle=False,\n",
        "                                            class_mode='categorical',\n",
        "                                            #subset='validation'\n",
        "                                            )\n",
        "\n",
        "test_gen = test_datagen.flow_from_directory(test_dir,\n",
        "                                            target_size=target_size,\n",
        "                                            batch_size=32,\n",
        "                                            color_mode='rgb',\n",
        "                                            shuffle=False,\n",
        "                                            class_mode='categorical',\n",
        "                                            #subset='validation'\n",
        "                                            )\n",
        "#num_class = test_generator.num_classes\n",
        "labels_train = train_gen.class_indices.keys()\n",
        "labels_val = val_gen.class_indices.keys()\n",
        "print(labels_train)\n",
        "print(labels_val)"
      ],
      "metadata": {
        "colab": {
          "base_uri": "https://localhost:8080/"
        },
        "id": "Gt2FQJwaIhTS",
        "outputId": "47a2374a-3935-4826-b430-739d28bb5c69"
      },
      "execution_count": 3,
      "outputs": [
        {
          "output_type": "stream",
          "name": "stdout",
          "text": [
            "Found 3200 images belonging to 4 classes.\n",
            "Found 800 images belonging to 4 classes.\n",
            "Found 800 images belonging to 4 classes.\n",
            "dict_keys(['blight', 'gray', 'healthy', 'rust'])\n",
            "dict_keys(['blight', 'gray', 'healthy', 'rust'])\n"
          ]
        }
      ]
    },
    {
      "cell_type": "markdown",
      "source": [
        "Create Model"
      ],
      "metadata": {
        "id": "4fXaU-0fImmA"
      }
    },
    {
      "cell_type": "code",
      "source": [
        "#callback = tf.keras.callbacks.EarlyStopping(monitor='loss', patience=3)\n",
        "model = Sequential()\n",
        "model.add(Conv2D(32,kernel_size=3,strides=1,activation='relu',\n",
        "                 #padding='same',\n",
        "                 input_shape=(32,32,3)))\n",
        "model.add(MaxPooling2D(pool_size=(2,2),strides=1))\n",
        "\n",
        "model.add(Conv2D(64,kernel_size=3,strides=1,activation='relu',\n",
        "                 #padding='same'\n",
        "                 ))\n",
        "model.add(MaxPooling2D(pool_size=(2,2),strides=1))\n",
        "\n",
        "#model.add(Conv2D(128,\n",
        "                  #64,\n",
        " #                kernel_size=3,strides=1,activation='relu',\n",
        "                 #padding='same'\n",
        "#                 ))\n",
        "#model.add(MaxPooling2D(pool_size=(2,2),strides=1))\n",
        "\n",
        "#model.add(Conv2D(128,kernel_size=3,strides=1,activation='relu',padding='same'))\n",
        "#model.add(MaxPooling2D(pool_size=(2,2),strides=1))\n",
        "\n",
        "model.add(Flatten())\n",
        "model.add(Dropout(0.5))#tes 1 0,5 #testing 2 menaikkan menjadi 0,6\n",
        "#model.add(Dense(64,activation='relu'))\n",
        "#model.add(Dense(256,activation='relu'))# testing 2\n",
        "model.add(Dense(128,activation='relu'))\n",
        "model.add(Dense(64,activation='relu'))\n",
        "model.add(Dense(classes,activation='softmax'))\n",
        "\n",
        "model.compile(optimizer='adam',loss='categorical_crossentropy',metrics=['accuracy'])\n",
        "\n"
      ],
      "metadata": {
        "id": "x36aa5G0IhkP"
      },
      "execution_count": 4,
      "outputs": []
    },
    {
      "cell_type": "code",
      "source": [
        "model.summary()"
      ],
      "metadata": {
        "colab": {
          "base_uri": "https://localhost:8080/"
        },
        "id": "4IR1IZhqOqTe",
        "outputId": "291d8cab-e037-4af0-b8ed-b85da32b90ee"
      },
      "execution_count": 5,
      "outputs": [
        {
          "output_type": "stream",
          "name": "stdout",
          "text": [
            "Model: \"sequential\"\n",
            "_________________________________________________________________\n",
            " Layer (type)                Output Shape              Param #   \n",
            "=================================================================\n",
            " conv2d (Conv2D)             (None, 30, 30, 32)        896       \n",
            "                                                                 \n",
            " max_pooling2d (MaxPooling2D  (None, 29, 29, 32)       0         \n",
            " )                                                               \n",
            "                                                                 \n",
            " conv2d_1 (Conv2D)           (None, 27, 27, 64)        18496     \n",
            "                                                                 \n",
            " max_pooling2d_1 (MaxPooling  (None, 26, 26, 64)       0         \n",
            " 2D)                                                             \n",
            "                                                                 \n",
            " flatten (Flatten)           (None, 43264)             0         \n",
            "                                                                 \n",
            " dropout (Dropout)           (None, 43264)             0         \n",
            "                                                                 \n",
            " dense (Dense)               (None, 128)               5537920   \n",
            "                                                                 \n",
            " dense_1 (Dense)             (None, 64)                8256      \n",
            "                                                                 \n",
            " dense_2 (Dense)             (None, 4)                 260       \n",
            "                                                                 \n",
            "=================================================================\n",
            "Total params: 5,565,828\n",
            "Trainable params: 5,565,828\n",
            "Non-trainable params: 0\n",
            "_________________________________________________________________\n"
          ]
        }
      ]
    },
    {
      "cell_type": "markdown",
      "source": [
        "Compile model"
      ],
      "metadata": {
        "id": "KCx4ceLNIhrT"
      }
    },
    {
      "cell_type": "code",
      "source": [
        "history = model.fit_generator(\n",
        "    train_gen,epochs=20,validation_data=val_gen, \n",
        "    #callbacks=[callback]\n",
        ")"
      ],
      "metadata": {
        "colab": {
          "base_uri": "https://localhost:8080/"
        },
        "id": "SfgesNDJIhyQ",
        "outputId": "8a012124-f36f-4dea-a10a-d5f835ca93dd"
      },
      "execution_count": 6,
      "outputs": [
        {
          "output_type": "stream",
          "name": "stderr",
          "text": [
            "<ipython-input-6-a76ff0ca7a6f>:1: UserWarning: `Model.fit_generator` is deprecated and will be removed in a future version. Please use `Model.fit`, which supports generators.\n",
            "  history = model.fit_generator(\n"
          ]
        },
        {
          "output_type": "stream",
          "name": "stdout",
          "text": [
            "Epoch 1/20\n",
            "100/100 [==============================] - 591s 6s/step - loss: 1.1981 - accuracy: 0.4494 - val_loss: 0.8198 - val_accuracy: 0.7487\n",
            "Epoch 2/20\n",
            "100/100 [==============================] - 28s 280ms/step - loss: 0.8180 - accuracy: 0.6556 - val_loss: 0.6073 - val_accuracy: 0.7887\n",
            "Epoch 3/20\n",
            "100/100 [==============================] - 31s 306ms/step - loss: 0.6220 - accuracy: 0.7541 - val_loss: 0.4857 - val_accuracy: 0.8025\n",
            "Epoch 4/20\n",
            "100/100 [==============================] - 26s 261ms/step - loss: 0.5286 - accuracy: 0.7941 - val_loss: 0.3621 - val_accuracy: 0.8975\n",
            "Epoch 5/20\n",
            "100/100 [==============================] - 26s 259ms/step - loss: 0.4630 - accuracy: 0.8228 - val_loss: 0.3346 - val_accuracy: 0.8675\n",
            "Epoch 6/20\n",
            "100/100 [==============================] - 27s 272ms/step - loss: 0.3328 - accuracy: 0.8678 - val_loss: 0.2427 - val_accuracy: 0.9250\n",
            "Epoch 7/20\n",
            "100/100 [==============================] - 30s 295ms/step - loss: 0.2938 - accuracy: 0.8916 - val_loss: 0.2679 - val_accuracy: 0.8938\n",
            "Epoch 8/20\n",
            "100/100 [==============================] - 28s 283ms/step - loss: 0.2446 - accuracy: 0.9106 - val_loss: 0.1332 - val_accuracy: 0.9650\n",
            "Epoch 9/20\n",
            "100/100 [==============================] - 30s 302ms/step - loss: 0.2106 - accuracy: 0.9250 - val_loss: 0.1073 - val_accuracy: 0.9737\n",
            "Epoch 10/20\n",
            "100/100 [==============================] - 29s 285ms/step - loss: 0.1510 - accuracy: 0.9488 - val_loss: 0.1263 - val_accuracy: 0.9525\n",
            "Epoch 11/20\n",
            "100/100 [==============================] - 31s 310ms/step - loss: 0.1488 - accuracy: 0.9459 - val_loss: 0.0776 - val_accuracy: 0.9812\n",
            "Epoch 12/20\n",
            "100/100 [==============================] - 28s 285ms/step - loss: 0.1383 - accuracy: 0.9516 - val_loss: 0.0769 - val_accuracy: 0.9725\n",
            "Epoch 13/20\n",
            "100/100 [==============================] - 31s 313ms/step - loss: 0.0872 - accuracy: 0.9725 - val_loss: 0.0884 - val_accuracy: 0.9688\n",
            "Epoch 14/20\n",
            "100/100 [==============================] - 28s 281ms/step - loss: 0.0923 - accuracy: 0.9663 - val_loss: 0.0422 - val_accuracy: 0.9925\n",
            "Epoch 15/20\n",
            "100/100 [==============================] - 31s 308ms/step - loss: 0.0653 - accuracy: 0.9762 - val_loss: 0.0402 - val_accuracy: 0.9950\n",
            "Epoch 16/20\n",
            "100/100 [==============================] - 29s 294ms/step - loss: 0.0744 - accuracy: 0.9744 - val_loss: 0.0317 - val_accuracy: 0.9950\n",
            "Epoch 17/20\n",
            "100/100 [==============================] - 29s 290ms/step - loss: 0.0623 - accuracy: 0.9794 - val_loss: 0.0841 - val_accuracy: 0.9837\n",
            "Epoch 18/20\n",
            "100/100 [==============================] - 30s 295ms/step - loss: 0.0647 - accuracy: 0.9797 - val_loss: 0.0556 - val_accuracy: 0.9875\n",
            "Epoch 19/20\n",
            "100/100 [==============================] - 28s 280ms/step - loss: 0.0737 - accuracy: 0.9716 - val_loss: 0.0467 - val_accuracy: 0.9887\n",
            "Epoch 20/20\n",
            "100/100 [==============================] - 31s 306ms/step - loss: 0.0895 - accuracy: 0.9688 - val_loss: 0.0445 - val_accuracy: 0.9950\n"
          ]
        }
      ]
    },
    {
      "cell_type": "code",
      "source": [
        "import numpy as np\n",
        "from sklearn.metrics import confusion_matrix, classification_report\n",
        "prediksi = model.predict(test_gen) #_generator\n",
        "y_pred = np.argmax(prediksi, axis = 1)\n",
        "labels_val = val_gen.class_indices.keys()\n",
        "print(labels_train)\n",
        "print(confusion_matrix(test_gen.classes,y_pred))\n"
      ],
      "metadata": {
        "colab": {
          "base_uri": "https://localhost:8080/"
        },
        "id": "xa_snfzWIrue",
        "outputId": "fc39cfde-69c8-4018-8799-becf44b84a9c"
      },
      "execution_count": 7,
      "outputs": [
        {
          "output_type": "stream",
          "name": "stdout",
          "text": [
            "25/25 [==============================] - 112s 5s/step\n",
            "dict_keys(['blight', 'gray', 'healthy', 'rust'])\n",
            "[[196   2   0   2]\n",
            " [  1 198   1   0]\n",
            " [  3   1 196   0]\n",
            " [  1   0   0 199]]\n"
          ]
        }
      ]
    },
    {
      "cell_type": "code",
      "source": [
        "print(classification_report(test_gen.classes,y_pred))"
      ],
      "metadata": {
        "colab": {
          "base_uri": "https://localhost:8080/"
        },
        "id": "YDllJkEqruYh",
        "outputId": "7de98dad-0644-4790-d624-1dc6d85e67a5"
      },
      "execution_count": 8,
      "outputs": [
        {
          "output_type": "stream",
          "name": "stdout",
          "text": [
            "              precision    recall  f1-score   support\n",
            "\n",
            "           0       0.98      0.98      0.98       200\n",
            "           1       0.99      0.99      0.99       200\n",
            "           2       0.99      0.98      0.99       200\n",
            "           3       0.99      0.99      0.99       200\n",
            "\n",
            "    accuracy                           0.99       800\n",
            "   macro avg       0.99      0.99      0.99       800\n",
            "weighted avg       0.99      0.99      0.99       800\n",
            "\n"
          ]
        }
      ]
    },
    {
      "cell_type": "code",
      "source": [
        "plt.plot(history.history['accuracy'], label='training accuracy')\n",
        "plt.plot(history.history['val_accuracy'], label='validation accuracy')\n",
        "plt.xlabel('epoch')\n",
        "plt.ylabel('accuracy')\n",
        "plt.legend()\n",
        "plt.show()"
      ],
      "metadata": {
        "colab": {
          "base_uri": "https://localhost:8080/",
          "height": 449
        },
        "id": "GKc2FXsMyxN5",
        "outputId": "b2602acc-1d02-49e6-b648-5b53b5df498e"
      },
      "execution_count": 9,
      "outputs": [
        {
          "output_type": "display_data",
          "data": {
            "text/plain": [
              "<Figure size 640x480 with 1 Axes>"
            ],
            "image/png": "[encoded data removed]"
          },
          "metadata": {}
        }
      ]
    },
    {
      "cell_type": "code",
      "source": [
        "plt.plot(history.history['loss'], label='training loss')\n",
        "plt.plot(history.history['val_loss'], label='validation loss')\n",
        "plt.xlabel('epoch')\n",
        "plt.ylabel('loss')\n",
        "plt.legend()\n",
        "plt.show()"
      ],
      "metadata": {
        "colab": {
          "base_uri": "https://localhost:8080/",
          "height": 449
        },
        "id": "gKuu5d9t4wLO",
        "outputId": "a2c6ba28-46d9-477b-ec8f-e081c9cd827b"
      },
      "execution_count": 10,
      "outputs": [
        {
          "output_type": "display_data",
          "data": {
            "text/plain": [
              "<Figure size 640x480 with 1 Axes>"
            ],
            "image/png": "[encoded data removed]"
          },
          "metadata": {}
        }
      ]
    }
  ]
}